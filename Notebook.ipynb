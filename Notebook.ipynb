{
 "cells": [
  {
   "cell_type": "markdown",
   "metadata": {},
   "source": [
    "# HELIO-LEARNING\n",
    "## Space Weather Prediction using Deep Learning"
   ]
  },
  {
   "cell_type": "markdown",
   "metadata": {},
   "source": [
    "#### COLLABORATORS\n",
    "> - #### __Sukumar Hakhoo__\n",
    "> - #### __Agnit Mukhopadhyay__"
   ]
  },
  {
   "cell_type": "markdown",
   "metadata": {},
   "source": [
    "   "
   ]
  },
  {
   "cell_type": "markdown",
   "metadata": {},
   "source": [
    "#### IDEA\n",
    "The project will utilize Deep Learning to predict upper-atmospheric (ionospheric) electrical conductance in the aurora/polar regions. The auroral conductance is severely affected by space weather phenomena like solar flares and coronal mass ejections (CMEs).  This project will enable significant improvements in present predictive investigations into the physics and estimation of the auroral conductance."
   ]
  },
  {
   "cell_type": "markdown",
   "metadata": {},
   "source": [
    "#### PROBLEM\n",
    "Global magnetohydrodynamic (MHD) models are used predominantly in space weather prediction. In almost all such global models, the estimation of the ionospheric conductance is conducted using outdated empirical models. This poses a massive challenge, when predicting quantities like the conductance in the aurora/polar region, which are driven mostly by electromagnetic interactions with charged particles, that MHD cannot predict accurately.\n",
    "\n",
    "We, therefore, intend to use dense neural networks to predict this quantity using inputs from in-situ satellite data and ground-based instruments. This predictive model will be designed to take multiple inputs and return the conductance as an output. Once operational, the model will be installed into the University of Michigan’s Space Weather Modeling Framework (SWMF) to study improvements in space weather predictive skill."
   ]
  },
  {
   "cell_type": "markdown",
   "metadata": {},
   "source": [
    " "
   ]
  },
  {
   "cell_type": "markdown",
   "metadata": {},
   "source": [
    "##### __IMPORTS__"
   ]
  },
  {
   "cell_type": "code",
   "execution_count": 1,
   "metadata": {},
   "outputs": [],
   "source": [
    "import os.path\n",
    "import numpy as np\n",
    "import pandas as pd\n",
    "import seaborn as sns\n",
    "from os import listdir\n",
    "import scipy.io as scio\n",
    "import matplotlib.pyplot as plt\n",
    "from os.path import isdir, isfile\n",
    "from sklearn.model_selection import train_test_split\n",
    "\n",
    "# import numpy.ma as ma\n",
    "# import datetime as dt\n",
    "# import pickle"
   ]
  },
  {
   "cell_type": "markdown",
   "metadata": {},
   "source": [
    "    "
   ]
  },
  {
   "cell_type": "markdown",
   "metadata": {},
   "source": [
    "### __DATA ETL__\n",
    "The data for each day is present in an IDL *.save* file.\n",
    "This data is obtained directly from the dataset, Assimilative Mapping of Ionospheric Electrodynamics (AMIE).\n",
    "#### Data Directory structure\n",
    "    Data\n",
    "    |-- year\n",
    "        |-- month\n",
    "            |-- day.save"
   ]
  },
  {
   "cell_type": "markdown",
   "metadata": {},
   "source": [
    "       "
   ]
  },
  {
   "cell_type": "markdown",
   "metadata": {},
   "source": [
    "#### Checking data characteristics using any one of the data files"
   ]
  },
  {
   "cell_type": "code",
   "execution_count": 2,
   "metadata": {},
   "outputs": [],
   "source": [
    "# Globals\n",
    "\n",
    "DATA_DIR = 'Data'\n",
    "FIELDS_TO_CONSIDER = ['hall conductance (aurora)', 'pedersen conductance (aurora)', 'field-aligned current']\n",
    "FIELD_NAMES = ['Hall Conductance (Aurora)', 'Pedersen Conductance (Aurora)', 'Field-Aligned Current']\n",
    "FIELD_SHORT_NAMES = ['h', 'p', 'f']\n",
    "FILE_LIMIT = 2"
   ]
  },
  {
   "cell_type": "code",
   "execution_count": 3,
   "metadata": {},
   "outputs": [],
   "source": [
    "def get_random_file():\n",
    "    years = listdir(DATA_DIR)\n",
    "    if years:\n",
    "        random_year = years[0]\n",
    "        if isdir(DATA_DIR + '/' + random_year):\n",
    "            months = listdir(DATA_DIR + '/' + random_year)\n",
    "            if months:\n",
    "                random_month = months[0]\n",
    "                if isdir(DATA_DIR + '/' + random_year + '/' + random_month):\n",
    "                    dates = listdir(DATA_DIR + '/' + random_year + '/' + random_month)\n",
    "                    if dates:\n",
    "                        file_name = DATA_DIR + '/' + random_year + '/' + random_month + '/' + dates[0]\n",
    "                        return file_name\n",
    "\n",
    "    print('Data unavailable')"
   ]
  },
  {
   "cell_type": "code",
   "execution_count": 4,
   "metadata": {},
   "outputs": [],
   "source": [
    "f = get_random_file()"
   ]
  },
  {
   "cell_type": "code",
   "execution_count": 5,
   "metadata": {},
   "outputs": [
    {
     "name": "stdout",
     "output_type": "stream",
     "text": [
      "AMIE File\n",
      "amie[amie_file]      = b'b20040101n'\n",
      "amie[data].shape     = (24, 25, 19, 1440)\n",
      "amie[lats].shape     = (24,)\n",
      "amie[mlts].shape     = (25,)\n",
      "amie[time].shape     = (1440,)\n",
      "amie[fields].shape   = (19,)\n",
      "amie[imf].shape      = (4, 1440)\n",
      "amie[ae].shape       = (4, 1440)\n",
      "amie[dst].shape      = (2, 1440)\n",
      "amie[hp].shape       = (2, 1440)\n",
      "amie[cpcp].shape     = (1440,)\n",
      "amie[version]        = 2.22\n",
      "\n",
      "Fields available: \n",
      "- electric potential\n",
      "- pedersen conductance (total)\n",
      "- pedersen conductance (aurora)\n",
      "- hall conductance (total)\n",
      "- hall conductance (aurora)\n",
      "- auroral mean energy (kev)\n",
      "- auroral energy flux (er/cm2/s)\n",
      "- electric field (east)\n",
      "- electric field (north)\n",
      "- horizontal current (east)\n",
      "- horizontal current (north)\n",
      "- horizontal current (magnitude)\n",
      "- simple joule heating\n",
      "- auroral mean energy (model)\n",
      "- auroral energy flux (model)\n",
      "- pedersen conductance model\n",
      "- hall conductance model\n",
      "- potential model\n",
      "- field-aligned current (!Mm!XA/m!E2!N)\n"
     ]
    }
   ],
   "source": [
    "if os.path.isfile(f):\n",
    "    print('AMIE File')\n",
    "    a = scio.readsav(f)\n",
    "    for key in a:\n",
    "        if isinstance(a[key], np.ndarray):\n",
    "            print('{:<20} = '.format(f'amie[{key}].shape') + str(a[key].shape))\n",
    "        else:\n",
    "            print('{:<20} = '.format(f'amie[{key}]') + str(a[key]))\n",
    "            \n",
    "    print('\\nFields available: \\n- ', end = '')\n",
    "    print('\\n- '.join([i.decode(\"utf-8\").strip() for i in a['fields']]))"
   ]
  },
  {
   "cell_type": "markdown",
   "metadata": {},
   "source": [
    "          "
   ]
  },
  {
   "cell_type": "markdown",
   "metadata": {},
   "source": [
    "#### Loading all data files"
   ]
  },
  {
   "cell_type": "code",
   "execution_count": 6,
   "metadata": {},
   "outputs": [],
   "source": [
    "def dataset_metadata_generator():\n",
    "    location = DATA_DIR\n",
    "    years = listdir(location)\n",
    "    for year in years:\n",
    "        if isdir(location + '/' + year):\n",
    "            location += '/' + year\n",
    "\n",
    "            months = listdir(location)\n",
    "            for month in months:\n",
    "                if isdir(location + '/' + month):\n",
    "                    location += '/' + month\n",
    "\n",
    "                    dates = listdir(location)\n",
    "                    for date in dates:\n",
    "                        file_name = location + '/' + date\n",
    "                        yield year, month, date[7:9], file_name                    "
   ]
  },
  {
   "cell_type": "code",
   "execution_count": 7,
   "metadata": {},
   "outputs": [],
   "source": [
    "def read_dataset(year, month, date, file_name):\n",
    "    print(f'Processing file: {year}/{month}/{date}', end=' ')\n",
    "    if os.path.isfile(file_name):\n",
    "        a = scio.readsav(file_name)\n",
    "        \n",
    "        Fields = [i.decode(\"utf-8\").strip() for i in a['fields']]\n",
    "        field_indices = [i for field in FIELDS_TO_CONSIDER for i, key in enumerate(Fields) if field in key]\n",
    "        \n",
    "        dataset = np.zeros((a['time'].shape[0] * a['lats'].shape[0] * a['mlts'].shape[0], 9))\n",
    "        \n",
    "        year, month, date = int(year), int(month), int(date)\n",
    "        \n",
    "        row_num = -1\n",
    "        p = a['time'].shape[0] // 10\n",
    "        for time_ in range(a['time'].shape[0]):\n",
    "            if time_ % p == 0:\n",
    "                print('.', end='')\n",
    "            for lat in range(a['lats'].shape[0]):\n",
    "                for mlt in range(a['mlts'].shape[0]):\n",
    "                    row_num += 1\n",
    "                    dataset[row_num] = [year,\n",
    "                                        month,\n",
    "                                        date,\n",
    "                                        time_,\n",
    "                                        a['lats'][lat],\n",
    "                                        a['mlts'][mlt],\n",
    "                                        a['data'][lat][mlt][field_indices[0]][time_],\n",
    "                                        a['data'][lat][mlt][field_indices[1]][time_],\n",
    "                                        a['data'][lat][mlt][field_indices[2]][time_]]\n",
    "        print(' [processed]')\n",
    "        return dataset\n",
    "    print(f'File not found: {file_name}')"
   ]
  },
  {
   "cell_type": "code",
   "execution_count": 11,
   "metadata": {},
   "outputs": [
    {
     "name": "stdout",
     "output_type": "stream",
     "text": [
      "Reading data files.\n",
      "Processing file: 2004/01/01 .......... [processed]\n",
      "Processing file: 2004/01/02 .......... [processed]\n",
      "Shape of loaded data: (1728000, 9)\n"
     ]
    }
   ],
   "source": [
    "data = None\n",
    "\n",
    "print('Reading data files.')\n",
    "for i, detail in enumerate(dataset_metadata_generator()):\n",
    "    if i + 1 > FILE_LIMIT:\n",
    "        break\n",
    "    \n",
    "    if data is not None:\n",
    "        data = np.vstack((data, read_dataset(*detail)))\n",
    "    else:\n",
    "        data = read_dataset(*detail)\n",
    "        \n",
    "print('Shape of loaded data: ' + str(data.shape))"
   ]
  },
  {
   "cell_type": "code",
   "execution_count": 12,
   "metadata": {},
   "outputs": [
    {
     "data": {
      "text/html": [
       "<div>\n",
       "<style scoped>\n",
       "    .dataframe tbody tr th:only-of-type {\n",
       "        vertical-align: middle;\n",
       "    }\n",
       "\n",
       "    .dataframe tbody tr th {\n",
       "        vertical-align: top;\n",
       "    }\n",
       "\n",
       "    .dataframe thead th {\n",
       "        text-align: right;\n",
       "    }\n",
       "</style>\n",
       "<table border=\"1\" class=\"dataframe\">\n",
       "  <thead>\n",
       "    <tr style=\"text-align: right;\">\n",
       "      <th></th>\n",
       "      <th>Year</th>\n",
       "      <th>Month</th>\n",
       "      <th>Date</th>\n",
       "      <th>Time</th>\n",
       "      <th>Latitude</th>\n",
       "      <th>MLT</th>\n",
       "      <th>Hall Conductance (Aurora)</th>\n",
       "      <th>Pedersen Conductance (Aurora)</th>\n",
       "      <th>Field-aligned current</th>\n",
       "    </tr>\n",
       "  </thead>\n",
       "  <tbody>\n",
       "    <tr>\n",
       "      <th>0</th>\n",
       "      <td>2004.0</td>\n",
       "      <td>1.0</td>\n",
       "      <td>1.0</td>\n",
       "      <td>0.0</td>\n",
       "      <td>90.000000</td>\n",
       "      <td>0.0</td>\n",
       "      <td>0.603387</td>\n",
       "      <td>0.686359</td>\n",
       "      <td>-0.000000</td>\n",
       "    </tr>\n",
       "    <tr>\n",
       "      <th>1</th>\n",
       "      <td>2004.0</td>\n",
       "      <td>1.0</td>\n",
       "      <td>1.0</td>\n",
       "      <td>0.0</td>\n",
       "      <td>90.000000</td>\n",
       "      <td>1.0</td>\n",
       "      <td>0.603387</td>\n",
       "      <td>0.686359</td>\n",
       "      <td>-0.000000</td>\n",
       "    </tr>\n",
       "    <tr>\n",
       "      <th>2</th>\n",
       "      <td>2004.0</td>\n",
       "      <td>1.0</td>\n",
       "      <td>1.0</td>\n",
       "      <td>0.0</td>\n",
       "      <td>90.000000</td>\n",
       "      <td>2.0</td>\n",
       "      <td>0.603387</td>\n",
       "      <td>0.686359</td>\n",
       "      <td>-0.000000</td>\n",
       "    </tr>\n",
       "    <tr>\n",
       "      <th>3</th>\n",
       "      <td>2004.0</td>\n",
       "      <td>1.0</td>\n",
       "      <td>1.0</td>\n",
       "      <td>0.0</td>\n",
       "      <td>90.000000</td>\n",
       "      <td>3.0</td>\n",
       "      <td>0.603387</td>\n",
       "      <td>0.686359</td>\n",
       "      <td>-0.000000</td>\n",
       "    </tr>\n",
       "    <tr>\n",
       "      <th>4</th>\n",
       "      <td>2004.0</td>\n",
       "      <td>1.0</td>\n",
       "      <td>1.0</td>\n",
       "      <td>0.0</td>\n",
       "      <td>90.000000</td>\n",
       "      <td>4.0</td>\n",
       "      <td>0.603387</td>\n",
       "      <td>0.686359</td>\n",
       "      <td>-0.000000</td>\n",
       "    </tr>\n",
       "    <tr>\n",
       "      <th>...</th>\n",
       "      <td>...</td>\n",
       "      <td>...</td>\n",
       "      <td>...</td>\n",
       "      <td>...</td>\n",
       "      <td>...</td>\n",
       "      <td>...</td>\n",
       "      <td>...</td>\n",
       "      <td>...</td>\n",
       "      <td>...</td>\n",
       "    </tr>\n",
       "    <tr>\n",
       "      <th>1727995</th>\n",
       "      <td>2004.0</td>\n",
       "      <td>1.0</td>\n",
       "      <td>2.0</td>\n",
       "      <td>1439.0</td>\n",
       "      <td>44.000004</td>\n",
       "      <td>20.0</td>\n",
       "      <td>0.276593</td>\n",
       "      <td>0.295475</td>\n",
       "      <td>0.003026</td>\n",
       "    </tr>\n",
       "    <tr>\n",
       "      <th>1727996</th>\n",
       "      <td>2004.0</td>\n",
       "      <td>1.0</td>\n",
       "      <td>2.0</td>\n",
       "      <td>1439.0</td>\n",
       "      <td>44.000004</td>\n",
       "      <td>21.0</td>\n",
       "      <td>0.269563</td>\n",
       "      <td>0.286469</td>\n",
       "      <td>0.003207</td>\n",
       "    </tr>\n",
       "    <tr>\n",
       "      <th>1727997</th>\n",
       "      <td>2004.0</td>\n",
       "      <td>1.0</td>\n",
       "      <td>2.0</td>\n",
       "      <td>1439.0</td>\n",
       "      <td>44.000004</td>\n",
       "      <td>22.0</td>\n",
       "      <td>0.286481</td>\n",
       "      <td>0.301729</td>\n",
       "      <td>0.003132</td>\n",
       "    </tr>\n",
       "    <tr>\n",
       "      <th>1727998</th>\n",
       "      <td>2004.0</td>\n",
       "      <td>1.0</td>\n",
       "      <td>2.0</td>\n",
       "      <td>1439.0</td>\n",
       "      <td>44.000004</td>\n",
       "      <td>23.0</td>\n",
       "      <td>0.272100</td>\n",
       "      <td>0.287711</td>\n",
       "      <td>0.002728</td>\n",
       "    </tr>\n",
       "    <tr>\n",
       "      <th>1727999</th>\n",
       "      <td>2004.0</td>\n",
       "      <td>1.0</td>\n",
       "      <td>2.0</td>\n",
       "      <td>1439.0</td>\n",
       "      <td>44.000004</td>\n",
       "      <td>24.0</td>\n",
       "      <td>0.280235</td>\n",
       "      <td>0.295417</td>\n",
       "      <td>0.002085</td>\n",
       "    </tr>\n",
       "  </tbody>\n",
       "</table>\n",
       "<p>1728000 rows × 9 columns</p>\n",
       "</div>"
      ],
      "text/plain": [
       "           Year  Month  Date    Time   Latitude   MLT  \\\n",
       "0        2004.0    1.0   1.0     0.0  90.000000   0.0   \n",
       "1        2004.0    1.0   1.0     0.0  90.000000   1.0   \n",
       "2        2004.0    1.0   1.0     0.0  90.000000   2.0   \n",
       "3        2004.0    1.0   1.0     0.0  90.000000   3.0   \n",
       "4        2004.0    1.0   1.0     0.0  90.000000   4.0   \n",
       "...         ...    ...   ...     ...        ...   ...   \n",
       "1727995  2004.0    1.0   2.0  1439.0  44.000004  20.0   \n",
       "1727996  2004.0    1.0   2.0  1439.0  44.000004  21.0   \n",
       "1727997  2004.0    1.0   2.0  1439.0  44.000004  22.0   \n",
       "1727998  2004.0    1.0   2.0  1439.0  44.000004  23.0   \n",
       "1727999  2004.0    1.0   2.0  1439.0  44.000004  24.0   \n",
       "\n",
       "         Hall Conductance (Aurora)  Pedersen Conductance (Aurora)  \\\n",
       "0                         0.603387                       0.686359   \n",
       "1                         0.603387                       0.686359   \n",
       "2                         0.603387                       0.686359   \n",
       "3                         0.603387                       0.686359   \n",
       "4                         0.603387                       0.686359   \n",
       "...                            ...                            ...   \n",
       "1727995                   0.276593                       0.295475   \n",
       "1727996                   0.269563                       0.286469   \n",
       "1727997                   0.286481                       0.301729   \n",
       "1727998                   0.272100                       0.287711   \n",
       "1727999                   0.280235                       0.295417   \n",
       "\n",
       "         Field-aligned current  \n",
       "0                    -0.000000  \n",
       "1                    -0.000000  \n",
       "2                    -0.000000  \n",
       "3                    -0.000000  \n",
       "4                    -0.000000  \n",
       "...                        ...  \n",
       "1727995               0.003026  \n",
       "1727996               0.003207  \n",
       "1727997               0.003132  \n",
       "1727998               0.002728  \n",
       "1727999               0.002085  \n",
       "\n",
       "[1728000 rows x 9 columns]"
      ]
     },
     "execution_count": 12,
     "metadata": {},
     "output_type": "execute_result"
    }
   ],
   "source": [
    "columns = ['Year', 'Month', 'Date', 'Time', \n",
    "           'Latitude', 'MLT', \n",
    "           'Hall Conductance (Aurora)', \n",
    "           'Pedersen Conductance (Aurora)', \n",
    "           'Field-aligned current']\n",
    "\n",
    "data_df = pd.DataFrame(data, columns=columns)\n",
    "data_df"
   ]
  },
  {
   "cell_type": "code",
   "execution_count": 13,
   "metadata": {},
   "outputs": [
    {
     "data": {
      "text/html": [
       "<div>\n",
       "<style scoped>\n",
       "    .dataframe tbody tr th:only-of-type {\n",
       "        vertical-align: middle;\n",
       "    }\n",
       "\n",
       "    .dataframe tbody tr th {\n",
       "        vertical-align: top;\n",
       "    }\n",
       "\n",
       "    .dataframe thead th {\n",
       "        text-align: right;\n",
       "    }\n",
       "</style>\n",
       "<table border=\"1\" class=\"dataframe\">\n",
       "  <thead>\n",
       "    <tr style=\"text-align: right;\">\n",
       "      <th></th>\n",
       "      <th>Year</th>\n",
       "      <th>Month</th>\n",
       "      <th>Date</th>\n",
       "      <th>Time</th>\n",
       "      <th>Latitude</th>\n",
       "      <th>MLT</th>\n",
       "      <th>Hall Conductance (Aurora)</th>\n",
       "      <th>Pedersen Conductance (Aurora)</th>\n",
       "      <th>Field-aligned current</th>\n",
       "    </tr>\n",
       "  </thead>\n",
       "  <tbody>\n",
       "    <tr>\n",
       "      <th>25</th>\n",
       "      <td>2004.0</td>\n",
       "      <td>1.0</td>\n",
       "      <td>1.0</td>\n",
       "      <td>0.0</td>\n",
       "      <td>88.0</td>\n",
       "      <td>0.0</td>\n",
       "      <td>0.747512</td>\n",
       "      <td>0.852444</td>\n",
       "      <td>0.001673</td>\n",
       "    </tr>\n",
       "    <tr>\n",
       "      <th>26</th>\n",
       "      <td>2004.0</td>\n",
       "      <td>1.0</td>\n",
       "      <td>1.0</td>\n",
       "      <td>0.0</td>\n",
       "      <td>88.0</td>\n",
       "      <td>1.0</td>\n",
       "      <td>0.705329</td>\n",
       "      <td>0.796412</td>\n",
       "      <td>0.004226</td>\n",
       "    </tr>\n",
       "    <tr>\n",
       "      <th>27</th>\n",
       "      <td>2004.0</td>\n",
       "      <td>1.0</td>\n",
       "      <td>1.0</td>\n",
       "      <td>0.0</td>\n",
       "      <td>88.0</td>\n",
       "      <td>2.0</td>\n",
       "      <td>0.890293</td>\n",
       "      <td>0.957106</td>\n",
       "      <td>0.002421</td>\n",
       "    </tr>\n",
       "    <tr>\n",
       "      <th>37</th>\n",
       "      <td>2004.0</td>\n",
       "      <td>1.0</td>\n",
       "      <td>1.0</td>\n",
       "      <td>0.0</td>\n",
       "      <td>88.0</td>\n",
       "      <td>12.0</td>\n",
       "      <td>0.842969</td>\n",
       "      <td>1.029214</td>\n",
       "      <td>0.001316</td>\n",
       "    </tr>\n",
       "    <tr>\n",
       "      <th>38</th>\n",
       "      <td>2004.0</td>\n",
       "      <td>1.0</td>\n",
       "      <td>1.0</td>\n",
       "      <td>0.0</td>\n",
       "      <td>88.0</td>\n",
       "      <td>13.0</td>\n",
       "      <td>0.760856</td>\n",
       "      <td>0.940128</td>\n",
       "      <td>0.007792</td>\n",
       "    </tr>\n",
       "  </tbody>\n",
       "</table>\n",
       "</div>"
      ],
      "text/plain": [
       "      Year  Month  Date  Time  Latitude   MLT  Hall Conductance (Aurora)  \\\n",
       "25  2004.0    1.0   1.0   0.0      88.0   0.0                   0.747512   \n",
       "26  2004.0    1.0   1.0   0.0      88.0   1.0                   0.705329   \n",
       "27  2004.0    1.0   1.0   0.0      88.0   2.0                   0.890293   \n",
       "37  2004.0    1.0   1.0   0.0      88.0  12.0                   0.842969   \n",
       "38  2004.0    1.0   1.0   0.0      88.0  13.0                   0.760856   \n",
       "\n",
       "    Pedersen Conductance (Aurora)  Field-aligned current  \n",
       "25                       0.852444               0.001673  \n",
       "26                       0.796412               0.004226  \n",
       "27                       0.957106               0.002421  \n",
       "37                       1.029214               0.001316  \n",
       "38                       0.940128               0.007792  "
      ]
     },
     "execution_count": 13,
     "metadata": {},
     "output_type": "execute_result"
    }
   ],
   "source": [
    "data_df[data_df['Field-aligned current'] > 0].head()"
   ]
  },
  {
   "cell_type": "code",
   "execution_count": 14,
   "metadata": {},
   "outputs": [
    {
     "data": {
      "text/plain": [
       "((1382400, 9), (345600, 9))"
      ]
     },
     "execution_count": 14,
     "metadata": {},
     "output_type": "execute_result"
    }
   ],
   "source": [
    "train, test = train_test_split(data_df, train_size=0.8)\n",
    "train.shape, test.shape"
   ]
  },
  {
   "cell_type": "code",
   "execution_count": 15,
   "metadata": {},
   "outputs": [],
   "source": [
    "features = ['Year', 'Month', 'Date', 'Time', \n",
    "            'Latitude', 'MLT', \n",
    "            'Field-aligned current']\n",
    "\n",
    "MODE = 'hall'\n",
    "if MODE == 'hall':\n",
    "    label =  'Hall Conductance (Aurora)'\n",
    "else: \n",
    "    label = 'Pedersen Conductance (Aurora)'\n",
    "\n",
    "x_train = train[features].values\n",
    "y_train = train[label].values\n",
    "x_test = test[features].values\n",
    "y_test = test[label].values"
   ]
  },
  {
   "cell_type": "markdown",
   "metadata": {},
   "source": [
    "    "
   ]
  },
  {
   "cell_type": "markdown",
   "metadata": {},
   "source": [
    "### __DATA VISUALIZATION__"
   ]
  },
  {
   "cell_type": "markdown",
   "metadata": {},
   "source": [
    "#### Visualizing a data file"
   ]
  },
  {
   "cell_type": "code",
   "execution_count": 16,
   "metadata": {},
   "outputs": [],
   "source": [
    "first_row_detail = data_df.iloc[0].Year, data_df.iloc[0].Month, data_df.iloc[0].Date"
   ]
  },
  {
   "cell_type": "code",
   "execution_count": 17,
   "metadata": {},
   "outputs": [
    {
     "data": {
      "text/html": [
       "<div>\n",
       "<style scoped>\n",
       "    .dataframe tbody tr th:only-of-type {\n",
       "        vertical-align: middle;\n",
       "    }\n",
       "\n",
       "    .dataframe tbody tr th {\n",
       "        vertical-align: top;\n",
       "    }\n",
       "\n",
       "    .dataframe thead th {\n",
       "        text-align: right;\n",
       "    }\n",
       "</style>\n",
       "<table border=\"1\" class=\"dataframe\">\n",
       "  <thead>\n",
       "    <tr style=\"text-align: right;\">\n",
       "      <th></th>\n",
       "      <th>Year</th>\n",
       "      <th>Month</th>\n",
       "      <th>Date</th>\n",
       "      <th>Time</th>\n",
       "      <th>Latitude</th>\n",
       "      <th>MLT</th>\n",
       "      <th>Hall Conductance (Aurora)</th>\n",
       "      <th>Pedersen Conductance (Aurora)</th>\n",
       "      <th>Field-aligned current</th>\n",
       "    </tr>\n",
       "  </thead>\n",
       "  <tbody>\n",
       "    <tr>\n",
       "      <th>0</th>\n",
       "      <td>2004.0</td>\n",
       "      <td>1.0</td>\n",
       "      <td>1.0</td>\n",
       "      <td>0.0</td>\n",
       "      <td>90.000000</td>\n",
       "      <td>0.0</td>\n",
       "      <td>0.603387</td>\n",
       "      <td>0.686359</td>\n",
       "      <td>-0.000000</td>\n",
       "    </tr>\n",
       "    <tr>\n",
       "      <th>1</th>\n",
       "      <td>2004.0</td>\n",
       "      <td>1.0</td>\n",
       "      <td>1.0</td>\n",
       "      <td>0.0</td>\n",
       "      <td>90.000000</td>\n",
       "      <td>1.0</td>\n",
       "      <td>0.603387</td>\n",
       "      <td>0.686359</td>\n",
       "      <td>-0.000000</td>\n",
       "    </tr>\n",
       "    <tr>\n",
       "      <th>2</th>\n",
       "      <td>2004.0</td>\n",
       "      <td>1.0</td>\n",
       "      <td>1.0</td>\n",
       "      <td>0.0</td>\n",
       "      <td>90.000000</td>\n",
       "      <td>2.0</td>\n",
       "      <td>0.603387</td>\n",
       "      <td>0.686359</td>\n",
       "      <td>-0.000000</td>\n",
       "    </tr>\n",
       "    <tr>\n",
       "      <th>3</th>\n",
       "      <td>2004.0</td>\n",
       "      <td>1.0</td>\n",
       "      <td>1.0</td>\n",
       "      <td>0.0</td>\n",
       "      <td>90.000000</td>\n",
       "      <td>3.0</td>\n",
       "      <td>0.603387</td>\n",
       "      <td>0.686359</td>\n",
       "      <td>-0.000000</td>\n",
       "    </tr>\n",
       "    <tr>\n",
       "      <th>4</th>\n",
       "      <td>2004.0</td>\n",
       "      <td>1.0</td>\n",
       "      <td>1.0</td>\n",
       "      <td>0.0</td>\n",
       "      <td>90.000000</td>\n",
       "      <td>4.0</td>\n",
       "      <td>0.603387</td>\n",
       "      <td>0.686359</td>\n",
       "      <td>-0.000000</td>\n",
       "    </tr>\n",
       "    <tr>\n",
       "      <th>...</th>\n",
       "      <td>...</td>\n",
       "      <td>...</td>\n",
       "      <td>...</td>\n",
       "      <td>...</td>\n",
       "      <td>...</td>\n",
       "      <td>...</td>\n",
       "      <td>...</td>\n",
       "      <td>...</td>\n",
       "      <td>...</td>\n",
       "    </tr>\n",
       "    <tr>\n",
       "      <th>863995</th>\n",
       "      <td>2004.0</td>\n",
       "      <td>1.0</td>\n",
       "      <td>1.0</td>\n",
       "      <td>1439.0</td>\n",
       "      <td>44.000004</td>\n",
       "      <td>20.0</td>\n",
       "      <td>0.263267</td>\n",
       "      <td>0.282453</td>\n",
       "      <td>-0.000013</td>\n",
       "    </tr>\n",
       "    <tr>\n",
       "      <th>863996</th>\n",
       "      <td>2004.0</td>\n",
       "      <td>1.0</td>\n",
       "      <td>1.0</td>\n",
       "      <td>1439.0</td>\n",
       "      <td>44.000004</td>\n",
       "      <td>21.0</td>\n",
       "      <td>0.259908</td>\n",
       "      <td>0.276464</td>\n",
       "      <td>0.000632</td>\n",
       "    </tr>\n",
       "    <tr>\n",
       "      <th>863997</th>\n",
       "      <td>2004.0</td>\n",
       "      <td>1.0</td>\n",
       "      <td>1.0</td>\n",
       "      <td>1439.0</td>\n",
       "      <td>44.000004</td>\n",
       "      <td>22.0</td>\n",
       "      <td>0.265354</td>\n",
       "      <td>0.284564</td>\n",
       "      <td>0.001484</td>\n",
       "    </tr>\n",
       "    <tr>\n",
       "      <th>863998</th>\n",
       "      <td>2004.0</td>\n",
       "      <td>1.0</td>\n",
       "      <td>1.0</td>\n",
       "      <td>1439.0</td>\n",
       "      <td>44.000004</td>\n",
       "      <td>23.0</td>\n",
       "      <td>0.269870</td>\n",
       "      <td>0.289261</td>\n",
       "      <td>0.002305</td>\n",
       "    </tr>\n",
       "    <tr>\n",
       "      <th>863999</th>\n",
       "      <td>2004.0</td>\n",
       "      <td>1.0</td>\n",
       "      <td>1.0</td>\n",
       "      <td>1439.0</td>\n",
       "      <td>44.000004</td>\n",
       "      <td>24.0</td>\n",
       "      <td>0.265336</td>\n",
       "      <td>0.287662</td>\n",
       "      <td>0.002764</td>\n",
       "    </tr>\n",
       "  </tbody>\n",
       "</table>\n",
       "<p>864000 rows × 9 columns</p>\n",
       "</div>"
      ],
      "text/plain": [
       "          Year  Month  Date    Time   Latitude   MLT  \\\n",
       "0       2004.0    1.0   1.0     0.0  90.000000   0.0   \n",
       "1       2004.0    1.0   1.0     0.0  90.000000   1.0   \n",
       "2       2004.0    1.0   1.0     0.0  90.000000   2.0   \n",
       "3       2004.0    1.0   1.0     0.0  90.000000   3.0   \n",
       "4       2004.0    1.0   1.0     0.0  90.000000   4.0   \n",
       "...        ...    ...   ...     ...        ...   ...   \n",
       "863995  2004.0    1.0   1.0  1439.0  44.000004  20.0   \n",
       "863996  2004.0    1.0   1.0  1439.0  44.000004  21.0   \n",
       "863997  2004.0    1.0   1.0  1439.0  44.000004  22.0   \n",
       "863998  2004.0    1.0   1.0  1439.0  44.000004  23.0   \n",
       "863999  2004.0    1.0   1.0  1439.0  44.000004  24.0   \n",
       "\n",
       "        Hall Conductance (Aurora)  Pedersen Conductance (Aurora)  \\\n",
       "0                        0.603387                       0.686359   \n",
       "1                        0.603387                       0.686359   \n",
       "2                        0.603387                       0.686359   \n",
       "3                        0.603387                       0.686359   \n",
       "4                        0.603387                       0.686359   \n",
       "...                           ...                            ...   \n",
       "863995                   0.263267                       0.282453   \n",
       "863996                   0.259908                       0.276464   \n",
       "863997                   0.265354                       0.284564   \n",
       "863998                   0.269870                       0.289261   \n",
       "863999                   0.265336                       0.287662   \n",
       "\n",
       "        Field-aligned current  \n",
       "0                   -0.000000  \n",
       "1                   -0.000000  \n",
       "2                   -0.000000  \n",
       "3                   -0.000000  \n",
       "4                   -0.000000  \n",
       "...                       ...  \n",
       "863995              -0.000013  \n",
       "863996               0.000632  \n",
       "863997               0.001484  \n",
       "863998               0.002305  \n",
       "863999               0.002764  \n",
       "\n",
       "[864000 rows x 9 columns]"
      ]
     },
     "execution_count": 17,
     "metadata": {},
     "output_type": "execute_result"
    }
   ],
   "source": [
    "first_date_df = data_df[(data_df['Year'] == first_row_detail[0]) & \n",
    "                        (data_df['Month'] == first_row_detail[1]) & \n",
    "                        (data_df['Date'] == first_row_detail[2])]\n",
    "first_date_df"
   ]
  },
  {
   "cell_type": "code",
   "execution_count": null,
   "metadata": {},
   "outputs": [],
   "source": [
    "# sns.pairplot(first_date_df[['Latitude', 'MLT', 'Field-aligned current', 'Hall Conductance (Aurora)']], hue='MLT', diag_kind='kde')"
   ]
  },
  {
   "cell_type": "code",
   "execution_count": 20,
   "metadata": {},
   "outputs": [
    {
     "data": {
      "text/plain": [
       "<seaborn.axisgrid.PairGrid at 0x29ea4f3b208>"
      ]
     },
     "execution_count": 20,
     "metadata": {},
     "output_type": "execute_result"
    },
    {
     "data": {
      "image/png": "[encoded data removed]",
      "text/plain": [
       "<Figure size 540x540 with 12 Axes>"
      ]
     },
     "metadata": {
      "needs_background": "light"
     },
     "output_type": "display_data"
    }
   ],
   "source": [
    "sns.pairplot(first_date_df[['Time', 'Field-aligned current', 'Hall Conductance (Aurora)']], diag_kind='kde')"
   ]
  },
  {
   "cell_type": "code",
   "execution_count": null,
   "metadata": {},
   "outputs": [],
   "source": [
    "# sns.pairplot(first_date_df[['Latitude', 'MLT', 'Field-aligned current', 'Hall Conductance (Aurora)']], kind='kde')"
   ]
  },
  {
   "cell_type": "markdown",
   "metadata": {},
   "source": [
    "      "
   ]
  },
  {
   "cell_type": "markdown",
   "metadata": {},
   "source": [
    "### __MODEL TRAINING__"
   ]
  },
  {
   "cell_type": "code",
   "execution_count": null,
   "metadata": {},
   "outputs": [],
   "source": [
    "import tensorflow as tf\n",
    "from tensorflow.keras import regularizers\n",
    "from tensorflow.keras.models import Sequential\n",
    "from tensorflow.keras.utils import to_categorical\n",
    "from tensorflow.keras.callbacks import Callback\n",
    "from tensorflow.keras.layers import Dense, Input, BatchNormalization, Flatten, Dropout\n",
    "from tensorflow.keras.losses import SparseCategoricalCrossentropy, CategoricalCrossentropy\n",
    "from tensorflow.keras.optimizers import Adagrad, RMSprop, Adadelta, Adam, Nadam\n",
    "from tensorflow.keras.initializers import he_normal\n",
    "from tensorflow.keras.layers.experimental import preprocessing"
   ]
  },
  {
   "cell_type": "markdown",
   "metadata": {},
   "source": [
    "#### Compiling the model"
   ]
  },
  {
   "cell_type": "code",
   "execution_count": 44,
   "metadata": {},
   "outputs": [
    {
     "data": {
      "text/html": [
       "<div>\n",
       "<style scoped>\n",
       "    .dataframe tbody tr th:only-of-type {\n",
       "        vertical-align: middle;\n",
       "    }\n",
       "\n",
       "    .dataframe tbody tr th {\n",
       "        vertical-align: top;\n",
       "    }\n",
       "\n",
       "    .dataframe thead th {\n",
       "        text-align: right;\n",
       "    }\n",
       "</style>\n",
       "<table border=\"1\" class=\"dataframe\">\n",
       "  <thead>\n",
       "    <tr style=\"text-align: right;\">\n",
       "      <th></th>\n",
       "      <th>mean</th>\n",
       "      <th>std</th>\n",
       "    </tr>\n",
       "  </thead>\n",
       "  <tbody>\n",
       "    <tr>\n",
       "      <th>Year</th>\n",
       "      <td>2004.000000</td>\n",
       "      <td>0.000000</td>\n",
       "    </tr>\n",
       "    <tr>\n",
       "      <th>Month</th>\n",
       "      <td>1.000000</td>\n",
       "      <td>0.000000</td>\n",
       "    </tr>\n",
       "    <tr>\n",
       "      <th>Date</th>\n",
       "      <td>1.500075</td>\n",
       "      <td>0.500000</td>\n",
       "    </tr>\n",
       "    <tr>\n",
       "      <th>Time</th>\n",
       "      <td>719.193239</td>\n",
       "      <td>415.654283</td>\n",
       "    </tr>\n",
       "    <tr>\n",
       "      <th>Latitude</th>\n",
       "      <td>67.012643</td>\n",
       "      <td>13.844906</td>\n",
       "    </tr>\n",
       "    <tr>\n",
       "      <th>MLT</th>\n",
       "      <td>12.002356</td>\n",
       "      <td>7.210532</td>\n",
       "    </tr>\n",
       "    <tr>\n",
       "      <th>Hall Conductance (Aurora)</th>\n",
       "      <td>3.367452</td>\n",
       "      <td>4.360690</td>\n",
       "    </tr>\n",
       "    <tr>\n",
       "      <th>Pedersen Conductance (Aurora)</th>\n",
       "      <td>2.736191</td>\n",
       "      <td>2.989437</td>\n",
       "    </tr>\n",
       "    <tr>\n",
       "      <th>Field-aligned current</th>\n",
       "      <td>0.000243</td>\n",
       "      <td>0.047587</td>\n",
       "    </tr>\n",
       "  </tbody>\n",
       "</table>\n",
       "</div>"
      ],
      "text/plain": [
       "                                      mean         std\n",
       "Year                           2004.000000    0.000000\n",
       "Month                             1.000000    0.000000\n",
       "Date                              1.500075    0.500000\n",
       "Time                            719.193239  415.654283\n",
       "Latitude                         67.012643   13.844906\n",
       "MLT                              12.002356    7.210532\n",
       "Hall Conductance (Aurora)         3.367452    4.360690\n",
       "Pedersen Conductance (Aurora)     2.736191    2.989437\n",
       "Field-aligned current             0.000243    0.047587"
      ]
     },
     "execution_count": 44,
     "metadata": {},
     "output_type": "execute_result"
    }
   ],
   "source": [
    "train.describe().transpose()[['mean', 'std']]"
   ]
  },
  {
   "cell_type": "code",
   "execution_count": 48,
   "metadata": {},
   "outputs": [],
   "source": [
    "normalizer = preprocessing.Normalization(input_shape=[7,])\n",
    "normalizer.adapt(train[features].values)"
   ]
  },
  {
   "cell_type": "code",
   "execution_count": 49,
   "metadata": {},
   "outputs": [],
   "source": [
    "seed = 10\n",
    "model = Sequential([\n",
    "    normalizer,\n",
    "    Dense(100, kernel_initializer=he_normal(seed=seed), bias_initializer='zeros', activation='relu'),\n",
    "    Dense(100, kernel_initializer=he_normal(seed=seed), bias_initializer='zeros', activation='relu'),\n",
    "    Dense(100, kernel_initializer=he_normal(seed=seed), bias_initializer='zeros', activation='relu'),\n",
    "    Dense(100, kernel_initializer=he_normal(seed=seed), bias_initializer='zeros', activation='relu'),\n",
    "    Dense(100, kernel_initializer=he_normal(seed=seed), bias_initializer='zeros', activation='relu'),\n",
    "    Dense(100, kernel_initializer=he_normal(seed=seed), bias_initializer='zeros', activation='relu'),\n",
    "    Dense(1, kernel_initializer=he_normal(seed=seed), bias_initializer='zeros', activation='softmax')\n",
    "])\n",
    "\n",
    "\n",
    "    \n",
    "#     model.add(Dense(n_classes, activation='softmax', kernel_initializer=kernel_initializer,\n",
    "#                     bias_initializer=bias_initializer))"
   ]
  },
  {
   "cell_type": "code",
   "execution_count": 50,
   "metadata": {},
   "outputs": [],
   "source": [
    "# model.compile(optimizer=tf.keras.optimizers.SGD(nesterov=True),\n",
    "#                   loss='mean_squared_error',\n",
    "#                   metrics=[tf.keras.metrics.RootMeanSquaredError()])\n",
    "\n",
    "model.compile(optimizer=tf.optimizers.Adam(learning_rate=0.1),\n",
    "              loss='mean_absolute_error',\n",
    "              metrics=[tf.keras.metrics.RootMeanSquaredError()])"
   ]
  },
  {
   "cell_type": "markdown",
   "metadata": {},
   "source": [
    "      "
   ]
  },
  {
   "cell_type": "markdown",
   "metadata": {},
   "source": [
    "#### Fitting the model on the training data"
   ]
  },
  {
   "cell_type": "code",
   "execution_count": null,
   "metadata": {},
   "outputs": [],
   "source": [
    "model.fit(\n",
    "        x = x_train,\n",
    "        y = y_train,\n",
    "        batch_size=128,\n",
    "        epochs=10,\n",
    "        verbose=1\n",
    "    )"
   ]
  },
  {
   "cell_type": "markdown",
   "metadata": {},
   "source": [
    "       "
   ]
  },
  {
   "cell_type": "markdown",
   "metadata": {},
   "source": [
    "#### Evaluation"
   ]
  },
  {
   "cell_type": "code",
   "execution_count": 41,
   "metadata": {},
   "outputs": [
    {
     "name": "stdout",
     "output_type": "stream",
     "text": [
      "10800/10800 [==============================] - 23s 2ms/step - loss: 2.7386 - root_mean_squared_error: 4.9649\n"
     ]
    },
    {
     "data": {
      "text/plain": [
       "[2.738638162612915, 4.964892864227295]"
      ]
     },
     "execution_count": 41,
     "metadata": {},
     "output_type": "execute_result"
    }
   ],
   "source": [
    "model.evaluate(x=x_test, y=y_test)"
   ]
  },
  {
   "cell_type": "code",
   "execution_count": null,
   "metadata": {},
   "outputs": [],
   "source": []
  },
  {
   "cell_type": "code",
   "execution_count": null,
   "metadata": {},
   "outputs": [],
   "source": []
  },
  {
   "cell_type": "code",
   "execution_count": null,
   "metadata": {},
   "outputs": [],
   "source": []
  },
  {
   "cell_type": "code",
   "execution_count": null,
   "metadata": {},
   "outputs": [],
   "source": []
  },
  {
   "cell_type": "code",
   "execution_count": null,
   "metadata": {},
   "outputs": [],
   "source": []
  },
  {
   "cell_type": "markdown",
   "metadata": {},
   "source": [
    "#### Data Processing"
   ]
  },
  {
   "cell_type": "markdown",
   "metadata": {},
   "source": [
    "The data in the raw dataset is present as a multi-dimensional array. Each dimension denotes a particular feautre or label.\n",
    "\n",
    "Hence, the data is processed by flattening the raw data into a 2-dimensional array which has two labels in the beginning followed by three features.\n",
    "\n",
    "The processing of the data is done as a part of the retrieval in the function $read\\_dataset$. \n",
    "\n",
    "We first define functions that help us save and read data, to and from pickle files. \n",
    "\n",
    "These functions will be used to save the processed data so that it can be retrieved directly when trying to train a model or test it."
   ]
  },
  {
   "cell_type": "code",
   "execution_count": 16,
   "metadata": {},
   "outputs": [],
   "source": [
    "def save_data(file_name, data):\n",
    "    with open(file_name, \"wb\") as fp:\n",
    "        pickle.dump(data, fp)\n",
    "        print('Data saved.')\n",
    "\n",
    "\n",
    "def read_data(file_name):\n",
    "    if os.path.isfile(file_name):\n",
    "        with open(file_name, \"rb\") as fp:\n",
    "            data = pickle.load(fp)\n",
    "            return data, True\n",
    "    else:\n",
    "        print('Data\\'s pickle file not found')\n",
    "        return [], False"
   ]
  },
  {
   "cell_type": "code",
   "execution_count": 17,
   "metadata": {},
   "outputs": [],
   "source": [
    "def process_data(in_directory, out_directory, start_time, stop_time):\n",
    "\n",
    "    print('Processing data files.')\n",
    "    data = read_dataset(in_directory, start_time, stop_time)\n",
    "    save_data(out_directory, data)"
   ]
  },
  {
   "cell_type": "code",
   "execution_count": 18,
   "metadata": {},
   "outputs": [],
   "source": [
    "# Cataloging training and testing scenarios\n",
    "\n",
    "Trainings = ['01_01_to_02_01.p', '01_01_to_10_01.p',\n",
    "             '01_01_to_30_01.p', '01_01_to_10_01.p']"
   ]
  },
  {
   "cell_type": "code",
   "execution_count": 19,
   "metadata": {},
   "outputs": [
    {
     "name": "stdout",
     "output_type": "stream",
     "text": [
      "Processing data files.\n",
      "Reading data files.\n",
      "Number of Days: 9\n",
      "Number of Minutes: 1440\n",
      "nLatitude = 24; nMLT = 25\n",
      "Reading file Data/2003/01/b20030101n.save\n",
      "Reading file Data/2003/01/b20030102n.save\n",
      "Reading file Data/2003/01/b20030103n.save\n",
      "Reading file Data/2003/01/b20030104n.save\n",
      "Reading file Data/2003/01/b20030105n.save\n",
      "Reading file Data/2003/01/b20030106n.save\n",
      "Reading file Data/2003/01/b20030107n.save\n",
      "Reading file Data/2003/01/b20030108n.save\n",
      "Reading file Data/2003/01/b20030109n.save\n",
      "Data read complete.\n",
      "Data saved.\n"
     ]
    }
   ],
   "source": [
    "# Processing training data\n",
    "input_directory = 'Data/'\n",
    "processed_data_filename = 'Processed_Data/2003/01_01_to_10_01.p'\n",
    "\n",
    "start_time = dt.datetime(2003, 1, 1, 0, 0, 0)\n",
    "stop_time = dt.datetime(2003, 1, 10, 0, 0, 0)\n",
    "\n",
    "process_data(input_directory, processed_data_filename,\n",
    "             start_time, stop_time)"
   ]
  },
  {
   "cell_type": "markdown",
   "metadata": {},
   "source": [
    "We use data from one year for training and from another year for testing.\n",
    "\n",
    "Since the raw data is present in the same structure, the test data can be processed similarly."
   ]
  },
  {
   "cell_type": "code",
   "execution_count": 43,
   "metadata": {},
   "outputs": [
    {
     "name": "stdout",
     "output_type": "stream",
     "text": [
      "Processing data files.\n",
      "Reading data files.\n",
      "Number of Days: 9\n",
      "Number of Minutes: 1440\n",
      "nLatitude = 24; nMLT = 25\n",
      "Reading file Data/2004/01/b20040101n.save\n",
      "Reading file Data/2004/01/b20040102n.save\n",
      "Reading file Data/2004/01/b20040103n.save\n",
      "Reading file Data/2004/01/b20040104n.save\n",
      "Reading file Data/2004/01/b20040105n.save\n",
      "Reading file Data/2004/01/b20040106n.save\n",
      "Reading file Data/2004/01/b20040107n.save\n",
      "Reading file Data/2004/01/b20040108n.save\n",
      "Reading file Data/2004/01/b20040109n.save\n",
      "Data read complete.\n",
      "Data saved.\n"
     ]
    }
   ],
   "source": [
    "# Processing testing data\n",
    "start_time = dt.datetime(2004, 1, 1, 0, 0, 0)\n",
    "stop_time = dt.datetime(2004, 1, 10, 0, 0, 0)\n",
    "\n",
    "processed_data_filename = 'Processed_Data/2004/01_01_to_10_01.p'\n",
    "\n",
    "process_data(input_directory, processed_data_filename,\n",
    "             start_time, stop_time)"
   ]
  }
 ],
 "metadata": {
  "kernelspec": {
   "display_name": "Python 3",
   "language": "python",
   "name": "python3"
  },
  "language_info": {
   "codemirror_mode": {
    "name": "ipython",
    "version": 3
   },
   "file_extension": ".py",
   "mimetype": "text/x-python",
   "name": "python",
   "nbconvert_exporter": "python",
   "pygments_lexer": "ipython3",
   "version": "3.7.9"
  }
 },
 "nbformat": 4,
 "nbformat_minor": 4
}
